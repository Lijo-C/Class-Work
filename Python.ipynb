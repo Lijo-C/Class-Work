{
  "nbformat": 4,
  "nbformat_minor": 0,
  "metadata": {
    "colab": {
      "provenance": []
    },
    "kernelspec": {
      "name": "python3",
      "display_name": "Python 3"
    },
    "language_info": {
      "name": "python"
    }
  },
  "cells": [
    {
      "cell_type": "code",
      "execution_count": null,
      "metadata": {
        "id": "zWo-KIbdon9r"
      },
      "outputs": [],
      "source": []
    },
    {
      "cell_type": "code",
      "source": [],
      "metadata": {
        "id": "hCIBCLiqoxkB"
      },
      "execution_count": null,
      "outputs": []
    },
    {
      "cell_type": "code",
      "source": [
        "print(\"hello World\")"
      ],
      "metadata": {
        "colab": {
          "base_uri": "https://localhost:8080/"
        },
        "id": "ukpZfSgQoxnD",
        "outputId": "526910cc-c293-4bde-c9ac-4c7d99c5b132"
      },
      "execution_count": null,
      "outputs": [
        {
          "output_type": "stream",
          "name": "stdout",
          "text": [
            "hello World\n"
          ]
        }
      ]
    },
    {
      "cell_type": "code",
      "source": [
        "3*4"
      ],
      "metadata": {
        "colab": {
          "base_uri": "https://localhost:8080/"
        },
        "id": "ubQQmTGjuu_8",
        "outputId": "93bef330-d3f5-4c98-f044-7820bb9d03af"
      },
      "execution_count": null,
      "outputs": [
        {
          "output_type": "execute_result",
          "data": {
            "text/plain": [
              "12"
            ]
          },
          "metadata": {},
          "execution_count": 2
        }
      ]
    },
    {
      "cell_type": "code",
      "source": [
        "3**4"
      ],
      "metadata": {
        "colab": {
          "base_uri": "https://localhost:8080/"
        },
        "id": "vRDX_RtRvLqW",
        "outputId": "22274b2b-641f-4e8a-968a-984e642f906d"
      },
      "execution_count": null,
      "outputs": [
        {
          "output_type": "execute_result",
          "data": {
            "text/plain": [
              "81"
            ]
          },
          "metadata": {},
          "execution_count": 4
        }
      ]
    },
    {
      "cell_type": "code",
      "source": [
        "3 * 4"
      ],
      "metadata": {
        "colab": {
          "base_uri": "https://localhost:8080/"
        },
        "id": "qIW7zHs3vAed",
        "outputId": "146a74b2-5a8e-4484-ca0d-dca48918c120"
      },
      "execution_count": null,
      "outputs": [
        {
          "output_type": "execute_result",
          "data": {
            "text/plain": [
              "12"
            ]
          },
          "metadata": {},
          "execution_count": 3
        }
      ]
    },
    {
      "cell_type": "code",
      "source": [
        "y=10\n",
        "Y*=5\n",
        "Print(y)"
      ],
      "metadata": {
        "colab": {
          "base_uri": "https://localhost:8080/",
          "height": 173
        },
        "id": "fTN390v7x94E",
        "outputId": "fcf36ef3-8db6-48c5-ed9a-99f2b7c3d3b9"
      },
      "execution_count": null,
      "outputs": [
        {
          "output_type": "error",
          "ename": "NameError",
          "evalue": "name 'Y' is not defined",
          "traceback": [
            "\u001b[0;31m---------------------------------------------------------------------------\u001b[0m",
            "\u001b[0;31mNameError\u001b[0m                                 Traceback (most recent call last)",
            "\u001b[0;32m/tmp/ipython-input-8-1871789168.py\u001b[0m in \u001b[0;36m<cell line: 0>\u001b[0;34m()\u001b[0m\n\u001b[1;32m      1\u001b[0m \u001b[0my\u001b[0m\u001b[0;34m=\u001b[0m\u001b[0;36m10\u001b[0m\u001b[0;34m\u001b[0m\u001b[0;34m\u001b[0m\u001b[0m\n\u001b[0;32m----> 2\u001b[0;31m \u001b[0mY\u001b[0m\u001b[0;34m*=\u001b[0m\u001b[0;36m5\u001b[0m\u001b[0;34m\u001b[0m\u001b[0;34m\u001b[0m\u001b[0m\n\u001b[0m\u001b[1;32m      3\u001b[0m \u001b[0mPrint\u001b[0m\u001b[0;34m(\u001b[0m\u001b[0my\u001b[0m\u001b[0;34m)\u001b[0m\u001b[0;34m\u001b[0m\u001b[0;34m\u001b[0m\u001b[0m\n",
            "\u001b[0;31mNameError\u001b[0m: name 'Y' is not defined"
          ]
        }
      ]
    },
    {
      "cell_type": "code",
      "source": [
        "y=10\n",
        "y *=5\n",
        "Print (y)"
      ],
      "metadata": {
        "colab": {
          "base_uri": "https://localhost:8080/",
          "height": 173
        },
        "id": "RsFycVIIypTx",
        "outputId": "54a80faf-30c6-443f-8b93-aaab2442c257"
      },
      "execution_count": null,
      "outputs": [
        {
          "output_type": "error",
          "ename": "NameError",
          "evalue": "name 'Print' is not defined",
          "traceback": [
            "\u001b[0;31m---------------------------------------------------------------------------\u001b[0m",
            "\u001b[0;31mNameError\u001b[0m                                 Traceback (most recent call last)",
            "\u001b[0;32m/tmp/ipython-input-12-948089149.py\u001b[0m in \u001b[0;36m<cell line: 0>\u001b[0;34m()\u001b[0m\n\u001b[1;32m      1\u001b[0m \u001b[0my\u001b[0m\u001b[0;34m=\u001b[0m\u001b[0;36m10\u001b[0m\u001b[0;34m\u001b[0m\u001b[0;34m\u001b[0m\u001b[0m\n\u001b[1;32m      2\u001b[0m \u001b[0my\u001b[0m \u001b[0;34m*=\u001b[0m\u001b[0;36m5\u001b[0m\u001b[0;34m\u001b[0m\u001b[0;34m\u001b[0m\u001b[0m\n\u001b[0;32m----> 3\u001b[0;31m \u001b[0mPrint\u001b[0m \u001b[0;34m(\u001b[0m\u001b[0my\u001b[0m\u001b[0;34m)\u001b[0m\u001b[0;34m\u001b[0m\u001b[0;34m\u001b[0m\u001b[0m\n\u001b[0m",
            "\u001b[0;31mNameError\u001b[0m: name 'Print' is not defined"
          ]
        }
      ]
    },
    {
      "cell_type": "code",
      "source": [
        "type(5)"
      ],
      "metadata": {
        "colab": {
          "base_uri": "https://localhost:8080/"
        },
        "id": "2zom-skn7sa7",
        "outputId": "54668528-23a9-4388-d12d-70fbd5167c52"
      },
      "execution_count": null,
      "outputs": [
        {
          "output_type": "execute_result",
          "data": {
            "text/plain": [
              "int"
            ]
          },
          "metadata": {},
          "execution_count": 13
        }
      ]
    },
    {
      "cell_type": "code",
      "source": [
        "t = (1,3,5,6)\n",
        "\n",
        "type (t)\n"
      ],
      "metadata": {
        "colab": {
          "base_uri": "https://localhost:8080/"
        },
        "id": "zNxBru6Co1-8",
        "outputId": "0ff3a531-c816-4acc-ab7b-e6657fd4abed"
      },
      "execution_count": null,
      "outputs": [
        {
          "output_type": "execute_result",
          "data": {
            "text/plain": [
              "tuple"
            ]
          },
          "metadata": {},
          "execution_count": 3
        }
      ]
    },
    {
      "cell_type": "code",
      "source": [
        "t3 = (5, 3.14, \"john\", True, None, (4,2,7))\n",
        "t3"
      ],
      "metadata": {
        "colab": {
          "base_uri": "https://localhost:8080/"
        },
        "id": "L7aJoK3Yp4fI",
        "outputId": "f8d823e1-bfb2-41cc-9a9e-ce560415fd29"
      },
      "execution_count": null,
      "outputs": [
        {
          "output_type": "execute_result",
          "data": {
            "text/plain": [
              "(5, 3.14, 'john', True, None, (4, 2, 7))"
            ]
          },
          "metadata": {},
          "execution_count": 4
        }
      ]
    },
    {
      "cell_type": "code",
      "source": [
        "lst = [5, 3.14, \"john\", True, None, (4,2,7)]\n",
        "print (lst)\n",
        "print ( \"before: \", lst)\n",
        "lst.append(100)\n",
        "print ( \"after: \", lst)"
      ],
      "metadata": {
        "colab": {
          "base_uri": "https://localhost:8080/"
        },
        "id": "hRmj1S7MteeJ",
        "outputId": "2c04c579-c961-4920-f6e7-4fbd46bb239d"
      },
      "execution_count": null,
      "outputs": [
        {
          "output_type": "stream",
          "name": "stdout",
          "text": [
            "[5, 3.14, 'john', True, None, (4, 2, 7)]\n",
            "before:  [5, 3.14, 'john', True, None, (4, 2, 7)]\n",
            "after:  [5, 3.14, 'john', True, None, (4, 2, 7), 100]\n"
          ]
        }
      ]
    },
    {
      "cell_type": "code",
      "source": [
        "lst = [5, 3.14, \"john\", True, None, (4,2,7)]\n",
        "print (lst)\n",
        "print ( \"before: \", lst)\n",
        "lst.remove(3.14)\n",
        "print ( \"after: \", lst)"
      ],
      "metadata": {
        "colab": {
          "base_uri": "https://localhost:8080/"
        },
        "id": "qdFF2wTsu8Nt",
        "outputId": "4d1ccfe7-393b-4af7-cf80-30e7dcb83f82"
      },
      "execution_count": null,
      "outputs": [
        {
          "output_type": "stream",
          "name": "stdout",
          "text": [
            "[5, 3.14, 'john', True, None, (4, 2, 7)]\n",
            "before:  [5, 3.14, 'john', True, None, (4, 2, 7)]\n",
            "after:  [5, 'john', True, None, (4, 2, 7)]\n"
          ]
        }
      ]
    },
    {
      "cell_type": "code",
      "source": [
        "lst = [5, 3.14, \"john\", True, None, (4,2,7)]\n",
        "print (lst)\n",
        "print ( \"before: \", lst)\n",
        "lst.pop (True)\n",
        "print ( \"after: \", lst)"
      ],
      "metadata": {
        "colab": {
          "base_uri": "https://localhost:8080/"
        },
        "id": "7ekstxSavmzv",
        "outputId": "83702f70-5c16-4c34-84cc-b6bab17f81cf"
      },
      "execution_count": null,
      "outputs": [
        {
          "output_type": "stream",
          "name": "stdout",
          "text": [
            "[5, 3.14, 'john', True, None, (4, 2, 7)]\n",
            "before:  [5, 3.14, 'john', True, None, (4, 2, 7)]\n",
            "after:  [5, 'john', True, None, (4, 2, 7)]\n"
          ]
        }
      ]
    },
    {
      "cell_type": "code",
      "source": [],
      "metadata": {
        "id": "Y2kCZBj4vERd"
      },
      "execution_count": null,
      "outputs": []
    },
    {
      "cell_type": "code",
      "source": [
        "lst = [5, 3.14, 46, 89675, 65]\n",
        "print (lst)\n",
        "print ( \"before: \", lst)\n",
        "lst.sort ()\n",
        "print ( \"after: \", lst)"
      ],
      "metadata": {
        "colab": {
          "base_uri": "https://localhost:8080/"
        },
        "id": "L3cnIZaSwCIL",
        "outputId": "16b1a24d-7d44-441d-f5a4-f51f31a89cfb"
      },
      "execution_count": null,
      "outputs": [
        {
          "output_type": "stream",
          "name": "stdout",
          "text": [
            "[5, 3.14, 46, 89675, 65]\n",
            "before:  [5, 3.14, 46, 89675, 65]\n",
            "after:  [3.14, 5, 46, 65, 89675]\n"
          ]
        }
      ]
    },
    {
      "cell_type": "code",
      "source": [
        "lst = [5, 3.14, 46, 89675, 65, True, False]\n",
        "print (lst)\n",
        "print ( \"before: \", lst)\n",
        "lst.sort ()\n",
        "print ( \"after: \", lst)"
      ],
      "metadata": {
        "colab": {
          "base_uri": "https://localhost:8080/"
        },
        "id": "-CN89BgYw4tb",
        "outputId": "98b01a02-160a-41aa-cdc9-203083af46da"
      },
      "execution_count": null,
      "outputs": [
        {
          "output_type": "stream",
          "name": "stdout",
          "text": [
            "[5, 3.14, 46, 89675, 65, True, False]\n",
            "before:  [5, 3.14, 46, 89675, 65, True, False]\n",
            "after:  [False, True, 3.14, 5, 46, 65, 89675]\n"
          ]
        }
      ]
    },
    {
      "cell_type": "code",
      "source": [
        "lst = [5, 3.14, 46, 89675, 65, true, false]\n",
        "print (lst)\n",
        "print ( \"before: \", lst)\n",
        "lst.sort ()\n",
        "print ( \"after: \", lst)"
      ],
      "metadata": {
        "colab": {
          "base_uri": "https://localhost:8080/",
          "height": 207
        },
        "id": "63qFMQekyMXX",
        "outputId": "5d37944e-488b-45d2-f2e0-0cf988a67eb7"
      },
      "execution_count": null,
      "outputs": [
        {
          "output_type": "error",
          "ename": "NameError",
          "evalue": "name 'true' is not defined",
          "traceback": [
            "\u001b[0;31m---------------------------------------------------------------------------\u001b[0m",
            "\u001b[0;31mNameError\u001b[0m                                 Traceback (most recent call last)",
            "\u001b[0;32m/tmp/ipython-input-24-3394218165.py\u001b[0m in \u001b[0;36m<cell line: 0>\u001b[0;34m()\u001b[0m\n\u001b[0;32m----> 1\u001b[0;31m \u001b[0mlst\u001b[0m \u001b[0;34m=\u001b[0m \u001b[0;34m[\u001b[0m\u001b[0;36m5\u001b[0m\u001b[0;34m,\u001b[0m \u001b[0;36m3.14\u001b[0m\u001b[0;34m,\u001b[0m \u001b[0;36m46\u001b[0m\u001b[0;34m,\u001b[0m \u001b[0;36m89675\u001b[0m\u001b[0;34m,\u001b[0m \u001b[0;36m65\u001b[0m\u001b[0;34m,\u001b[0m \u001b[0mtrue\u001b[0m\u001b[0;34m,\u001b[0m \u001b[0mfalse\u001b[0m\u001b[0;34m]\u001b[0m\u001b[0;34m\u001b[0m\u001b[0;34m\u001b[0m\u001b[0m\n\u001b[0m\u001b[1;32m      2\u001b[0m \u001b[0mprint\u001b[0m \u001b[0;34m(\u001b[0m\u001b[0mlst\u001b[0m\u001b[0;34m)\u001b[0m\u001b[0;34m\u001b[0m\u001b[0;34m\u001b[0m\u001b[0m\n\u001b[1;32m      3\u001b[0m \u001b[0mprint\u001b[0m \u001b[0;34m(\u001b[0m \u001b[0;34m\"before: \"\u001b[0m\u001b[0;34m,\u001b[0m \u001b[0mlst\u001b[0m\u001b[0;34m)\u001b[0m\u001b[0;34m\u001b[0m\u001b[0;34m\u001b[0m\u001b[0m\n\u001b[1;32m      4\u001b[0m \u001b[0mlst\u001b[0m\u001b[0;34m.\u001b[0m\u001b[0msort\u001b[0m \u001b[0;34m(\u001b[0m\u001b[0;34m)\u001b[0m\u001b[0;34m\u001b[0m\u001b[0;34m\u001b[0m\u001b[0m\n\u001b[1;32m      5\u001b[0m \u001b[0mprint\u001b[0m \u001b[0;34m(\u001b[0m \u001b[0;34m\"after: \"\u001b[0m\u001b[0;34m,\u001b[0m \u001b[0mlst\u001b[0m\u001b[0;34m)\u001b[0m\u001b[0;34m\u001b[0m\u001b[0;34m\u001b[0m\u001b[0m\n",
            "\u001b[0;31mNameError\u001b[0m: name 'true' is not defined"
          ]
        }
      ]
    },
    {
      "cell_type": "code",
      "source": [
        "lst = [\"Abi\", \"Deepak\", \"john\", \"ali\"]\n",
        "print (lst)\n",
        "print ( \"before: \", lst)\n",
        "lst.sort ()\n",
        "print ( \"after: \", lst)"
      ],
      "metadata": {
        "colab": {
          "base_uri": "https://localhost:8080/"
        },
        "id": "AyYHhMoYxVXT",
        "outputId": "c74e49e8-0634-4572-c151-fb78a3e92649"
      },
      "execution_count": null,
      "outputs": [
        {
          "output_type": "stream",
          "name": "stdout",
          "text": [
            "['Abi', 'Deepak', 'john', 'ali']\n",
            "before:  ['Abi', 'Deepak', 'john', 'ali']\n",
            "after:  ['Abi', 'Deepak', 'ali', 'john']\n"
          ]
        }
      ]
    },
    {
      "cell_type": "code",
      "source": [
        "lst = {5, 3.14, 46, 89675, 65, True, False}\n",
        "lst\n"
      ],
      "metadata": {
        "colab": {
          "base_uri": "https://localhost:8080/"
        },
        "id": "bXvBlDZgzFUv",
        "outputId": "7681fd21-539a-4ebe-9618-3676830b946c"
      },
      "execution_count": null,
      "outputs": [
        {
          "output_type": "execute_result",
          "data": {
            "text/plain": [
              "{False, True, 3.14, 5, 46, 65, 89675}"
            ]
          },
          "metadata": {},
          "execution_count": 29
        }
      ]
    },
    {
      "cell_type": "code",
      "source": [
        "t=()\n",
        "type(t)"
      ],
      "metadata": {
        "colab": {
          "base_uri": "https://localhost:8080/"
        },
        "id": "Ij581mV_z5nb",
        "outputId": "6f986c1c-fff6-4b36-9350-2685cf207ed4"
      },
      "execution_count": null,
      "outputs": [
        {
          "output_type": "execute_result",
          "data": {
            "text/plain": [
              "tuple"
            ]
          },
          "metadata": {},
          "execution_count": 30
        }
      ]
    },
    {
      "cell_type": "code",
      "source": [
        "t={}\n",
        "type(t)"
      ],
      "metadata": {
        "colab": {
          "base_uri": "https://localhost:8080/"
        },
        "id": "b2DaGA3-0Bis",
        "outputId": "8e39fdd9-83c8-4e10-c7a0-03a028deceda"
      },
      "execution_count": null,
      "outputs": [
        {
          "output_type": "execute_result",
          "data": {
            "text/plain": [
              "dict"
            ]
          },
          "metadata": {},
          "execution_count": 31
        }
      ]
    },
    {
      "cell_type": "code",
      "source": [
        "t=[]\n",
        "type(t)"
      ],
      "metadata": {
        "colab": {
          "base_uri": "https://localhost:8080/"
        },
        "id": "5R8P4y8A0IVm",
        "outputId": "30c1a1d2-2283-41e7-8db6-3bc3e13fade9"
      },
      "execution_count": null,
      "outputs": [
        {
          "output_type": "execute_result",
          "data": {
            "text/plain": [
              "list"
            ]
          },
          "metadata": {},
          "execution_count": 32
        }
      ]
    },
    {
      "cell_type": "code",
      "source": [
        "lst = {5, 3.14, 46, 89675, 65, True, False}\n",
        "80 not in lst"
      ],
      "metadata": {
        "colab": {
          "base_uri": "https://localhost:8080/"
        },
        "id": "kKw67SLV0NKc",
        "outputId": "e4d513e6-1a5d-4c1c-c655-7947873a608a"
      },
      "execution_count": null,
      "outputs": [
        {
          "output_type": "execute_result",
          "data": {
            "text/plain": [
              "True"
            ]
          },
          "metadata": {},
          "execution_count": 40
        }
      ]
    },
    {
      "cell_type": "code",
      "source": [
        "lst =\n",
        "{\"Abi\", \"Deepak\", \"john\", \"ali\"}\n",
        "\n",
        "print ( \"before: \", lst)\n",
        "lst.add  ()\n",
        "print ( \"after: \", lst)"
      ],
      "metadata": {
        "colab": {
          "base_uri": "https://localhost:8080/",
          "height": 105
        },
        "id": "-iNw3AXj1zXo",
        "outputId": "0f060244-d359-4f06-ed7d-d99d159e60bd"
      },
      "execution_count": null,
      "outputs": [
        {
          "output_type": "error",
          "ename": "SyntaxError",
          "evalue": "invalid syntax (ipython-input-44-266854391.py, line 1)",
          "traceback": [
            "\u001b[0;36m  File \u001b[0;32m\"/tmp/ipython-input-44-266854391.py\"\u001b[0;36m, line \u001b[0;32m1\u001b[0m\n\u001b[0;31m    lst =\u001b[0m\n\u001b[0m          ^\u001b[0m\n\u001b[0;31mSyntaxError\u001b[0m\u001b[0;31m:\u001b[0m invalid syntax\n"
          ]
        }
      ]
    },
    {
      "cell_type": "code",
      "source": [
        "dd = {\"lisa\":95,\"mohit\":85, \"john\":75}\n",
        "len(dd)\n"
      ],
      "metadata": {
        "colab": {
          "base_uri": "https://localhost:8080/"
        },
        "id": "xWDszp0d3Y8V",
        "outputId": "7478a25f-8498-488e-f4e0-91db8678e773"
      },
      "execution_count": null,
      "outputs": [
        {
          "output_type": "execute_result",
          "data": {
            "text/plain": [
              "3"
            ]
          },
          "metadata": {},
          "execution_count": 45
        }
      ]
    },
    {
      "cell_type": "code",
      "source": [
        "dd = {\"lisa\":95,\"mohit\":85, \"john\":75}\n",
        "type(dd)\n"
      ],
      "metadata": {
        "colab": {
          "base_uri": "https://localhost:8080/"
        },
        "id": "MuVrI2JD3535",
        "outputId": "82a301a4-0717-458a-f8b5-8e68322e5068"
      },
      "execution_count": null,
      "outputs": [
        {
          "output_type": "execute_result",
          "data": {
            "text/plain": [
              "dict"
            ]
          },
          "metadata": {},
          "execution_count": 46
        }
      ]
    },
    {
      "cell_type": "code",
      "source": [
        "dd = {\"lisa\":95,\"mohit\":85, \"john\":75}\n",
        "dd[\"lisa\"]"
      ],
      "metadata": {
        "colab": {
          "base_uri": "https://localhost:8080/"
        },
        "id": "4HslEk-X4FbN",
        "outputId": "e66e647f-5729-4f99-e94c-07d9dc479770"
      },
      "execution_count": null,
      "outputs": [
        {
          "output_type": "execute_result",
          "data": {
            "text/plain": [
              "95"
            ]
          },
          "metadata": {},
          "execution_count": 47
        }
      ]
    },
    {
      "cell_type": "code",
      "source": [
        "dd = {\"lisa\":95,\"mohit\":85, \"john\":75}\n",
        "dd[\"ali\"]= 56\n",
        "dd"
      ],
      "metadata": {
        "colab": {
          "base_uri": "https://localhost:8080/"
        },
        "id": "FN-JoTKJ4Yvb",
        "outputId": "f7daba67-960b-43fc-cac7-a2fd4041cfdc"
      },
      "execution_count": null,
      "outputs": [
        {
          "output_type": "execute_result",
          "data": {
            "text/plain": [
              "{'lisa': 95, 'mohit': 85, 'john': 75, 'ali': 56}"
            ]
          },
          "metadata": {},
          "execution_count": 52
        }
      ]
    },
    {
      "cell_type": "code",
      "source": [
        "dd.keys()\n",
        "dd.values()"
      ],
      "metadata": {
        "colab": {
          "base_uri": "https://localhost:8080/"
        },
        "id": "Gf_bFwEE435-",
        "outputId": "3290ad3e-0dcf-4a78-cc67-d567bb0305eb"
      },
      "execution_count": null,
      "outputs": [
        {
          "output_type": "execute_result",
          "data": {
            "text/plain": [
              "dict_values([95, 85, 75, 56])"
            ]
          },
          "metadata": {},
          "execution_count": 54
        }
      ]
    },
    {
      "cell_type": "code",
      "source": [
        "x=5\n",
        "y=10\n",
        "z= x+y+x*y\n",
        "print(\"x=\",x)\n",
        "print(\"y=\",y)\n",
        "print(\"z=\",z)"
      ],
      "metadata": {
        "colab": {
          "base_uri": "https://localhost:8080/"
        },
        "id": "YYoGs_5Rt7pX",
        "outputId": "b0b82475-1977-4909-be60-f9dd8be0c248"
      },
      "execution_count": null,
      "outputs": [
        {
          "output_type": "stream",
          "name": "stdout",
          "text": [
            "x= 5\n",
            "y= 10\n",
            "z= 65\n"
          ]
        }
      ]
    },
    {
      "cell_type": "code",
      "source": [
        "x=5\n",
        "if x>1:\n",
        "  print('yes')"
      ],
      "metadata": {
        "colab": {
          "base_uri": "https://localhost:8080/"
        },
        "id": "vnFR78MIvBzg",
        "outputId": "4f99476e-0d94-4089-87c7-1ab1e2082982"
      },
      "execution_count": null,
      "outputs": [
        {
          "output_type": "stream",
          "name": "stdout",
          "text": [
            "yes\n"
          ]
        }
      ]
    },
    {
      "cell_type": "code",
      "source": [
        "x=5\n",
        "if x<1:\n",
        "  print('yes')"
      ],
      "metadata": {
        "id": "fu3G0yB5vZVO"
      },
      "execution_count": null,
      "outputs": []
    },
    {
      "cell_type": "code",
      "source": [
        "### write a program to get an integer from user and then pront its sign.\n",
        "\n",
        "x= input ()\n",
        "print (x)\n",
        "print (type(x))"
      ],
      "metadata": {
        "colab": {
          "base_uri": "https://localhost:8080/"
        },
        "id": "Ry3TZYAbvgRh",
        "outputId": "9b7cccc1-0e82-453a-f688-b99bd9fcff11"
      },
      "execution_count": null,
      "outputs": [
        {
          "output_type": "stream",
          "name": "stdout",
          "text": [
            "Michael\n",
            "Michael\n",
            "<class 'str'>\n"
          ]
        }
      ]
    },
    {
      "cell_type": "code",
      "source": [
        "### write a program to get an integer from user and then pront its sign.\n",
        "\n",
        "x= int(input ())\n",
        "print (x)\n",
        "print (type(x))"
      ],
      "metadata": {
        "colab": {
          "base_uri": "https://localhost:8080/"
        },
        "id": "0NFRsTqbwlzh",
        "outputId": "776ca3fc-219e-4d60-cc9f-b962125f5801"
      },
      "execution_count": null,
      "outputs": [
        {
          "output_type": "stream",
          "name": "stdout",
          "text": [
            "45\n",
            "45\n",
            "<class 'int'>\n"
          ]
        }
      ]
    },
    {
      "cell_type": "code",
      "source": [
        "### write a program to get an integer from user and then pront its sign.\n",
        "\n",
        "x= int(input (\"Please enter an integer: \"))\n",
        "print (x)\n",
        "print (type(x))"
      ],
      "metadata": {
        "colab": {
          "base_uri": "https://localhost:8080/"
        },
        "id": "fG-fwMS-xKtv",
        "outputId": "9e12bd82-3f54-456b-bff2-e7c00b4b88a9"
      },
      "execution_count": null,
      "outputs": [
        {
          "output_type": "stream",
          "name": "stdout",
          "text": [
            "Please enter an integer: 45\n",
            "45\n",
            "<class 'int'>\n"
          ]
        }
      ]
    },
    {
      "cell_type": "code",
      "source": [
        "### write a program to get an integer from user and then pront its sign.\n",
        "\n",
        "\n",
        "x= int(input (\"Please enter an integer: \"))\n",
        "print (x)\n",
        "print (type(x))\n",
        "if x>0:\n",
        "  print(\"positve\")"
      ],
      "metadata": {
        "colab": {
          "base_uri": "https://localhost:8080/"
        },
        "id": "Wfxz6xNJxVpA",
        "outputId": "b244a67f-9389-49ad-fe8f-0332d0ccf50a"
      },
      "execution_count": null,
      "outputs": [
        {
          "output_type": "stream",
          "name": "stdout",
          "text": [
            "Please enter an integer: 3\n",
            "3\n",
            "<class 'int'>\n",
            "positve\n"
          ]
        }
      ]
    },
    {
      "cell_type": "code",
      "source": [
        "### write a program to get an integer from user and then pront its sign.\n",
        "\n",
        "\n",
        "x= int(input (\"Please enter an integer: \"))\n",
        "print (x)\n",
        "print (type(x))\n",
        "if x>0:\n",
        "  print(\"positve\")\n",
        "\n",
        "if x<0:\n",
        "  print ('negative')"
      ],
      "metadata": {
        "colab": {
          "base_uri": "https://localhost:8080/"
        },
        "id": "QiZk1CukyNmy",
        "outputId": "a41acca0-2f23-44c4-dfc6-ec01c93ab862"
      },
      "execution_count": null,
      "outputs": [
        {
          "output_type": "stream",
          "name": "stdout",
          "text": [
            "Please enter an integer: 3\n",
            "3\n",
            "<class 'int'>\n",
            "positve\n"
          ]
        }
      ]
    },
    {
      "cell_type": "code",
      "source": [
        "### write a program to get an integer from user and then pront its sign.\n",
        "\n",
        "\n",
        "x= int(input (\"Please enter an integer: \"))\n",
        "print (x)\n",
        "print (type(x))\n",
        "if x>0:\n",
        "  print(\"positve\")\n",
        "\n",
        "if x<0:\n",
        "  print ('negative')"
      ],
      "metadata": {
        "colab": {
          "base_uri": "https://localhost:8080/"
        },
        "id": "4srcLhXhyhhB",
        "outputId": "a768424d-a879-4df8-90ea-78e9da502159"
      },
      "execution_count": null,
      "outputs": [
        {
          "output_type": "stream",
          "name": "stdout",
          "text": [
            "Please enter an integer: -3\n",
            "-3\n",
            "<class 'int'>\n",
            "negative\n"
          ]
        }
      ]
    },
    {
      "cell_type": "code",
      "source": [
        "### write a program to get an integer from user and then pront its sign.\n",
        "\n",
        "\n",
        "x= int(input (\"Please enter an integer: \"))\n",
        "print (x)\n",
        "print (type(x))\n",
        "if x>0:\n",
        "  print(\"positve\")\n",
        "\n",
        "if x<0:\n",
        "  print ('negative')"
      ],
      "metadata": {
        "colab": {
          "base_uri": "https://localhost:8080/"
        },
        "id": "LnlmDRCVymcY",
        "outputId": "f4825e5b-4848-4d40-c307-611c919cb3f1"
      },
      "execution_count": null,
      "outputs": [
        {
          "output_type": "stream",
          "name": "stdout",
          "text": [
            "Please enter an integer: 0\n",
            "0\n",
            "<class 'int'>\n"
          ]
        }
      ]
    },
    {
      "cell_type": "code",
      "source": [
        "### write a program to get an integer from user and then pront its sign.\n",
        "\n",
        "\n",
        "x= int(input (\"Please enter an integer: \"))\n",
        "print (x)\n",
        "print (type(x))\n",
        "if x>0:\n",
        "  print(\"positve\")\n",
        "\n",
        "else:\n",
        "  print ('negative')\n",
        "\n",
        "print ('Program terminated succussfully')"
      ],
      "metadata": {
        "colab": {
          "base_uri": "https://localhost:8080/"
        },
        "id": "tc6h8HAxypS7",
        "outputId": "245837a1-b3e6-4467-bd77-00c7f0ec8897"
      },
      "execution_count": null,
      "outputs": [
        {
          "output_type": "stream",
          "name": "stdout",
          "text": [
            "Please enter an integer: 2\n",
            "2\n",
            "<class 'int'>\n",
            "positve\n",
            "Program terminated succussfully\n"
          ]
        }
      ]
    },
    {
      "cell_type": "code",
      "source": [
        "### write a program to get an integer from user and then pront its sign.\n",
        "\n",
        "\n",
        "x= int(input (\"Please enter an integer: \"))\n",
        "print (x)\n",
        "print (type(x))\n",
        "if x>0:\n",
        "  print(\"positve\")\n",
        "\n",
        "else:\n",
        "  print ('negative')\n",
        "\n",
        "print ('Program terminated succussfully')"
      ],
      "metadata": {
        "colab": {
          "base_uri": "https://localhost:8080/"
        },
        "id": "WUrrZ-sYzAqQ",
        "outputId": "185aadcc-7b98-407d-935a-78743174e6c2"
      },
      "execution_count": null,
      "outputs": [
        {
          "output_type": "stream",
          "name": "stdout",
          "text": [
            "Please enter an integer: -2\n",
            "-2\n",
            "<class 'int'>\n",
            "negative\n",
            "Program terminated succussfully\n"
          ]
        }
      ]
    },
    {
      "cell_type": "code",
      "source": [
        "### write a program to get an integer from user and then pront its sign.\n",
        "\n",
        "\n",
        "x= int(input (\"Please enter an integer: \"))\n",
        "print (x)\n",
        "print (type(x))\n",
        "if x>=0:\n",
        "  print(\"positve\")\n",
        "\n",
        "else:\n",
        "  print ('negative')\n",
        "\n",
        "print ('Program terminated succussfully')"
      ],
      "metadata": {
        "colab": {
          "base_uri": "https://localhost:8080/"
        },
        "id": "vA2pPEQkzji0",
        "outputId": "62cb48c2-86a6-4ded-9a28-6ad66d76f81f"
      },
      "execution_count": null,
      "outputs": [
        {
          "output_type": "stream",
          "name": "stdout",
          "text": [
            "Please enter an integer: 2\n",
            "2\n",
            "<class 'int'>\n",
            "positve\n",
            "Program terminated succussfully\n"
          ]
        }
      ]
    },
    {
      "cell_type": "code",
      "source": [
        "### write a program to get an integer from user and then pront its sign.\n",
        "\n",
        "\n",
        "x= int(input (\"Please enter an integer: \"))\n",
        "print (x)\n",
        "print (type(x))\n",
        "if x>=0:\n",
        "  print(\"positve\")\n",
        "\n",
        "else:\n",
        "  print ('negative')\n",
        "\n",
        "print ('Program terminated succussfully')"
      ],
      "metadata": {
        "colab": {
          "base_uri": "https://localhost:8080/"
        },
        "id": "CpxSbL3nzon0",
        "outputId": "91b5ea52-5a92-493d-9f53-b45e534650ca"
      },
      "execution_count": null,
      "outputs": [
        {
          "output_type": "stream",
          "name": "stdout",
          "text": [
            "Please enter an integer: -2\n",
            "-2\n",
            "<class 'int'>\n",
            "negative\n",
            "Program terminated succussfully\n"
          ]
        }
      ]
    },
    {
      "cell_type": "code",
      "source": [
        "### write a program to get an integer from user and then pront its sign.\n",
        "\n",
        "\n",
        "x= int(input (\"Please enter an integer: \"))\n",
        "print (x)\n",
        "print (type(x))\n",
        "if x>0:\n",
        "  print(\"positve\")\n",
        "\n",
        "elif x== 0:\n",
        "  print ('zero')\n",
        "else:\n",
        "  print ('negative')\n",
        "\n",
        "print ('Program terminated succussfully')"
      ],
      "metadata": {
        "colab": {
          "base_uri": "https://localhost:8080/"
        },
        "id": "4yrzgJ-aztLf",
        "outputId": "1f56425c-5962-4f40-e6e1-a4dfec31ba38"
      },
      "execution_count": null,
      "outputs": [
        {
          "output_type": "stream",
          "name": "stdout",
          "text": [
            "Please enter an integer: 2\n",
            "2\n",
            "<class 'int'>\n",
            "positve\n",
            "Program terminated succussfully\n"
          ]
        }
      ]
    },
    {
      "cell_type": "code",
      "source": [
        "### write a program to get an integer from user and then pront its sign.\n",
        "\n",
        "\n",
        "x= int(input (\"Please enter an integer: \"))\n",
        "print (x)\n",
        "print (type(x))\n",
        "if x>0:\n",
        "  print(\"positve\")\n",
        "\n",
        "elif x== 0:\n",
        "  print ('zero')\n",
        "else:\n",
        "  print ('negative')\n",
        "\n",
        "print ('Program terminated succussfully')"
      ],
      "metadata": {
        "colab": {
          "base_uri": "https://localhost:8080/"
        },
        "id": "zN51F4lj0FWn",
        "outputId": "6c99d068-df24-4d3c-98d0-8cfbe5f85e14"
      },
      "execution_count": null,
      "outputs": [
        {
          "output_type": "stream",
          "name": "stdout",
          "text": [
            "Please enter an integer: -2\n",
            "-2\n",
            "<class 'int'>\n",
            "negative\n",
            "Program terminated succussfully\n"
          ]
        }
      ]
    },
    {
      "cell_type": "code",
      "source": [
        "### write a program to get an integer from user and then pront its sign.\n",
        "\n",
        "\n",
        "x= int(input (\"Please enter an integer: \"))\n",
        "print (x)\n",
        "print (type(x))\n",
        "if x>0:\n",
        "  print(\"positve\")\n",
        "\n",
        "elif x== 0:\n",
        "  print ('zero')\n",
        "else:\n",
        "  print ('negative')\n",
        "\n",
        "print ('Program terminated succussfully')"
      ],
      "metadata": {
        "colab": {
          "base_uri": "https://localhost:8080/"
        },
        "id": "CDCe2rin0Hgp",
        "outputId": "886400a9-58e3-4e09-e8eb-b39b7be79d20"
      },
      "execution_count": null,
      "outputs": [
        {
          "output_type": "stream",
          "name": "stdout",
          "text": [
            "Please enter an integer: 0\n",
            "0\n",
            "<class 'int'>\n",
            "zero\n",
            "Program terminated succussfully\n"
          ]
        }
      ]
    },
    {
      "cell_type": "code",
      "source": [
        "### write a program to get an integer from user and then pront its sign.\n",
        "\n",
        "\n",
        "x= int(input (\"Please enter an integer: \"))\n",
        "print (x)\n",
        "print (type(x))\n",
        "if x>0:\n",
        "  print(\"positve\")\n",
        "  print('horray')\n",
        "\n",
        "elif x== 0:\n",
        "  print ('zero')\n",
        "  print ('hmmmm')\n",
        "else:\n",
        "  print ('negative')\n",
        "  print ('omg')\n",
        "\n",
        "print ('Program terminated succussfully')"
      ],
      "metadata": {
        "colab": {
          "base_uri": "https://localhost:8080/"
        },
        "id": "PUBhbB6W0Jp3",
        "outputId": "e0fcd9fd-0e0e-40dd-ac5d-a639b73c9c5c"
      },
      "execution_count": null,
      "outputs": [
        {
          "output_type": "stream",
          "name": "stdout",
          "text": [
            "Please enter an integer: 2\n",
            "2\n",
            "<class 'int'>\n",
            "positve\n",
            "horray\n",
            "Program terminated succussfully\n"
          ]
        }
      ]
    },
    {
      "cell_type": "code",
      "source": [
        "### write a program to get an integer from user and then pront its sign.\n",
        "\n",
        "\n",
        "x= int(input (\"Please enter an integer: \"))\n",
        "print (x)\n",
        "print (type(x))\n",
        "if x>0:\n",
        "  print(\"positve\")\n",
        "  print('horray')\n",
        "\n",
        "elif x== 0:\n",
        "  print ('zero')\n",
        "  print ('hmmmm')\n",
        "else:\n",
        "  print ('negative')\n",
        "  print ('omg')\n",
        "\n",
        "print ('Program terminated succussfully')"
      ],
      "metadata": {
        "colab": {
          "base_uri": "https://localhost:8080/"
        },
        "id": "itCXQbEQ0aQp",
        "outputId": "86ec6473-113f-4b77-9331-54c1b9ade9b8"
      },
      "execution_count": null,
      "outputs": [
        {
          "output_type": "stream",
          "name": "stdout",
          "text": [
            "Please enter an integer: -2\n",
            "-2\n",
            "<class 'int'>\n",
            "negative\n",
            "omg\n",
            "Program terminated succussfully\n"
          ]
        }
      ]
    },
    {
      "cell_type": "code",
      "source": [
        "### write a program to get an integer from user and then pront its sign.\n",
        "\n",
        "\n",
        "x= int(input (\"Please enter an integer: \"))\n",
        "print (x)\n",
        "print (type(x))\n",
        "if x>0:\n",
        "  print(\"positve\")\n",
        "  print('horray')\n",
        "\n",
        "elif x== 0:\n",
        "  print ('zero')\n",
        "  print ('hmmmm')\n",
        "else:\n",
        "  print ('negative')\n",
        "  print ('omg')\n",
        "\n",
        "print ('Program terminated succussfully')"
      ],
      "metadata": {
        "colab": {
          "base_uri": "https://localhost:8080/"
        },
        "id": "BlxrZe3r0cVd",
        "outputId": "994f955d-298e-4f63-b8ce-0acb76288997"
      },
      "execution_count": null,
      "outputs": [
        {
          "output_type": "stream",
          "name": "stdout",
          "text": [
            "Please enter an integer: 0\n",
            "0\n",
            "<class 'int'>\n",
            "zero\n",
            "hmmmm\n",
            "Program terminated succussfully\n"
          ]
        }
      ]
    },
    {
      "cell_type": "code",
      "source": [
        "#### Write a program to get the grade from the user and then to assign a phrase\n",
        " - Excellent to 90 and bigger\n",
        " - Very good to 80 to 89\n",
        " - Good to 70 to 79\n",
        " - OK to 60 to 69\n",
        " - Satisfying to 50 to 59\n",
        " - Fail to less than 50\n"
      ],
      "metadata": {
        "colab": {
          "base_uri": "https://localhost:8080/",
          "height": 105
        },
        "id": "VFTxrl800ep4",
        "outputId": "17e21c20-567c-46f9-82d4-71421a778933"
      },
      "execution_count": null,
      "outputs": [
        {
          "output_type": "error",
          "ename": "IndentationError",
          "evalue": "unexpected indent (ipython-input-37-3498475696.py, line 2)",
          "traceback": [
            "\u001b[0;36m  File \u001b[0;32m\"/tmp/ipython-input-37-3498475696.py\"\u001b[0;36m, line \u001b[0;32m2\u001b[0m\n\u001b[0;31m    - Excellent to 90 and bigger\u001b[0m\n\u001b[0m    ^\u001b[0m\n\u001b[0;31mIndentationError\u001b[0m\u001b[0;31m:\u001b[0m unexpected indent\n"
          ]
        }
      ]
    },
    {
      "cell_type": "code",
      "source": [
        "  grade_input = int(input('Please enter the grade as an Integer: '))\n",
        "  grade = int(grade_input)\n",
        "\n",
        "  if grade >= 90:\n",
        "    print('Excellent')\n",
        "  elif grade >= 80:\n",
        "    print('Very good')\n",
        "  elif grade >= 70:\n",
        "    print('Good')\n",
        "  elif grade >= 60:\n",
        "    print('OK')\n",
        "  elif grade >= 50:\n",
        "    print('Satisfying')\n",
        "  else:\n",
        "    print('Fail')\n",
        "\n",
        "except ValueError:\n",
        "  # This block runs only if the int() conversion fails\n",
        "  print('Error: That was not a valid integer. Please run the program again.')"
      ],
      "metadata": {
        "colab": {
          "base_uri": "https://localhost:8080/",
          "height": 105
        },
        "id": "WEMjiPIL46C5",
        "outputId": "c33cbee8-af75-488d-c5fc-6ffe290f7003"
      },
      "execution_count": null,
      "outputs": [
        {
          "output_type": "error",
          "ename": "SyntaxError",
          "evalue": "invalid syntax (ipython-input-44-1403013693.py, line 17)",
          "traceback": [
            "\u001b[0;36m  File \u001b[0;32m\"/tmp/ipython-input-44-1403013693.py\"\u001b[0;36m, line \u001b[0;32m17\u001b[0m\n\u001b[0;31m    except ValueError:\u001b[0m\n\u001b[0m    ^\u001b[0m\n\u001b[0;31mSyntaxError\u001b[0m\u001b[0;31m:\u001b[0m invalid syntax\n"
          ]
        }
      ]
    },
    {
      "cell_type": "code",
      "source": [
        "x = int(input (\"Please enter an integer:\"))\n",
        "status = \"positive\" if x >= 0 else \"negative\"\n",
        "print"
      ],
      "metadata": {
        "colab": {
          "base_uri": "https://localhost:8080/"
        },
        "id": "m6NQDi0P591K",
        "outputId": "0f5828f4-e3be-4a01-fed7-a177b58d6a52"
      },
      "execution_count": null,
      "outputs": [
        {
          "name": "stdout",
          "output_type": "stream",
          "text": [
            "Please enter an integer:9\n"
          ]
        },
        {
          "output_type": "execute_result",
          "data": {
            "text/plain": [
              "<function print(*args, sep=' ', end='\\n', file=None, flush=False)>"
            ]
          },
          "metadata": {},
          "execution_count": 45
        }
      ]
    },
    {
      "cell_type": "code",
      "source": [
        "## Loops in python"
      ],
      "metadata": {
        "id": "TS9vJ-MG6Y0x"
      },
      "execution_count": null,
      "outputs": []
    },
    {
      "cell_type": "code",
      "source": [
        "x=8\n",
        "while x > 0:\n",
        "  print(x)\n",
        "  x-=1\n",
        "print (\"Program Terminated\")"
      ],
      "metadata": {
        "colab": {
          "base_uri": "https://localhost:8080/"
        },
        "id": "UAZAPSWY6od1",
        "outputId": "5b631967-c348-40e2-9fd1-e0a2ea11a0e3"
      },
      "execution_count": null,
      "outputs": [
        {
          "output_type": "stream",
          "name": "stdout",
          "text": [
            "8\n",
            "7\n",
            "6\n",
            "5\n",
            "4\n",
            "3\n",
            "2\n",
            "1\n",
            "Program Terminated\n"
          ]
        }
      ]
    },
    {
      "cell_type": "code",
      "source": [
        "### While loop"
      ],
      "metadata": {
        "id": "9oLDeUfY8f7c"
      },
      "execution_count": null,
      "outputs": []
    },
    {
      "cell_type": "code",
      "source": [
        "x=[1,2,3]\n",
        "while x:\n",
        "  print(x)\n",
        "  x.pop(0)\n",
        "print (\"Program Terminated\")"
      ],
      "metadata": {
        "colab": {
          "base_uri": "https://localhost:8080/"
        },
        "id": "6sge_cR37pDL",
        "outputId": "9befc029-f1b3-4029-db50-97ffa73ad339"
      },
      "execution_count": null,
      "outputs": [
        {
          "output_type": "stream",
          "name": "stdout",
          "text": [
            "[1, 2, 3]\n",
            "[2, 3]\n",
            "[3]\n",
            "Program Terminated\n"
          ]
        }
      ]
    },
    {
      "cell_type": "code",
      "source": [
        "## For Loop"
      ],
      "metadata": {
        "id": "arVfzXJn8ZkJ"
      },
      "execution_count": null,
      "outputs": []
    },
    {
      "cell_type": "code",
      "source": [
        "x=(1,2,3)\n",
        "for item in x:\n",
        "  print(item)\n",
        "  print(item**3)\n",
        "  print(\"-\"*20)\n",
        "\n",
        "print (\"Program Terminated\")"
      ],
      "metadata": {
        "colab": {
          "base_uri": "https://localhost:8080/"
        },
        "id": "I97h-Tnw8dul",
        "outputId": "0ad8fc5b-7200-4f89-ce72-ea03e2083b7d"
      },
      "execution_count": null,
      "outputs": [
        {
          "output_type": "stream",
          "name": "stdout",
          "text": [
            "1\n",
            "1\n",
            "--------------------\n",
            "2\n",
            "8\n",
            "--------------------\n",
            "3\n",
            "27\n",
            "--------------------\n",
            "Program Terminated\n"
          ]
        }
      ]
    },
    {
      "cell_type": "code",
      "source": [
        "for i in range(1, 10):\n",
        "  print('*'*i)"
      ],
      "metadata": {
        "colab": {
          "base_uri": "https://localhost:8080/",
          "height": 156
        },
        "id": "nCaXvjWD9r1z",
        "outputId": "50c03663-551b-41bd-f30a-d1f01f133864"
      },
      "execution_count": null,
      "outputs": [
        {
          "output_type": "error",
          "ename": "TypeError",
          "evalue": "'int' object is not callable",
          "traceback": [
            "\u001b[0;31m---------------------------------------------------------------------------\u001b[0m",
            "\u001b[0;31mTypeError\u001b[0m                                 Traceback (most recent call last)",
            "\u001b[0;32m/tmp/ipython-input-66-3545606700.py\u001b[0m in \u001b[0;36m<cell line: 0>\u001b[0;34m()\u001b[0m\n\u001b[0;32m----> 1\u001b[0;31m \u001b[0;32mfor\u001b[0m \u001b[0mi\u001b[0m \u001b[0;32min\u001b[0m \u001b[0mrange\u001b[0m\u001b[0;34m(\u001b[0m\u001b[0;36m1\u001b[0m\u001b[0;34m,\u001b[0m \u001b[0;36m10\u001b[0m\u001b[0;34m)\u001b[0m\u001b[0;34m:\u001b[0m\u001b[0;34m\u001b[0m\u001b[0;34m\u001b[0m\u001b[0m\n\u001b[0m\u001b[1;32m      2\u001b[0m   \u001b[0mprint\u001b[0m\u001b[0;34m(\u001b[0m\u001b[0;34m'*'\u001b[0m\u001b[0;34m*\u001b[0m\u001b[0mi\u001b[0m\u001b[0;34m)\u001b[0m\u001b[0;34m\u001b[0m\u001b[0;34m\u001b[0m\u001b[0m\n",
            "\u001b[0;31mTypeError\u001b[0m: 'int' object is not callable"
          ]
        }
      ]
    },
    {
      "cell_type": "code",
      "source": [
        "x=[4, 3, 24, 7, 33, 2, 65, 7]\n",
        "for item in x:\n",
        "  print (\"item=\", item)\n",
        "  if item > 11:\n",
        "    continue\n",
        "  print(item ** 2)\n",
        "  print(\"-\"*20)"
      ],
      "metadata": {
        "colab": {
          "base_uri": "https://localhost:8080/"
        },
        "id": "wLln2Q-E_7na",
        "outputId": "84a30f43-0181-40a2-aecd-a2b113256c02"
      },
      "execution_count": null,
      "outputs": [
        {
          "output_type": "stream",
          "name": "stdout",
          "text": [
            "item= 4\n",
            "16\n",
            "--------------------\n",
            "item= 3\n",
            "9\n",
            "--------------------\n",
            "item= 24\n",
            "item= 7\n",
            "49\n",
            "--------------------\n",
            "item= 33\n",
            "item= 2\n",
            "4\n",
            "--------------------\n",
            "item= 65\n",
            "item= 7\n",
            "49\n",
            "--------------------\n"
          ]
        }
      ]
    },
    {
      "cell_type": "markdown",
      "source": [
        "Functions"
      ],
      "metadata": {
        "id": "Wp2LL0xM5pee"
      }
    },
    {
      "cell_type": "code",
      "source": [
        "import pandas as pd\n",
        "import math\n"
      ],
      "metadata": {
        "id": "v8rzVmcdHsT3"
      },
      "execution_count": null,
      "outputs": []
    },
    {
      "cell_type": "code",
      "source": [
        "x=3.24259265535/2\n",
        "\n",
        "math.sin(x)"
      ],
      "metadata": {
        "id": "UOe96RGV0zqQ",
        "colab": {
          "base_uri": "https://localhost:8080/"
        },
        "outputId": "e3c4c00b-b543-4f01-fe9e-c7fe92cd9850"
      },
      "execution_count": null,
      "outputs": [
        {
          "output_type": "execute_result",
          "data": {
            "text/plain": [
              "0.9987251459231659"
            ]
          },
          "metadata": {},
          "execution_count": 3
        }
      ]
    },
    {
      "cell_type": "code",
      "source": [
        "x=math.pi/2\n",
        "\n",
        "math.sin(x)"
      ],
      "metadata": {
        "colab": {
          "base_uri": "https://localhost:8080/"
        },
        "id": "X7Pnlw336JU_",
        "outputId": "7dd78ef0-d2a4-43a8-cb97-6cd6388e0570"
      },
      "execution_count": null,
      "outputs": [
        {
          "output_type": "execute_result",
          "data": {
            "text/plain": [
              "1.0"
            ]
          },
          "metadata": {},
          "execution_count": 4
        }
      ]
    },
    {
      "cell_type": "code",
      "source": [
        "def f(x):\n",
        "  \"\"\" this function returns the square value of it input.\n",
        "  input: x -> float\n",
        "  output: -> float\n",
        "  \"\"\"\n",
        "  y = x ** 2\n",
        "  return y\n"
      ],
      "metadata": {
        "id": "qwGYw-cC6h0u"
      },
      "execution_count": null,
      "outputs": []
    },
    {
      "cell_type": "markdown",
      "source": [],
      "metadata": {
        "id": "cSQLSYIS6cAV"
      }
    },
    {
      "cell_type": "code",
      "source": [
        "def f(x):\n",
        "  \"\"\" this function returns the square value of it input.\n",
        "  input: x -> float\n",
        "  output: -> float\n",
        "  \"\"\"\n",
        "  y = x**2\n",
        "  return y\n",
        "\n",
        "print(\"the program starts.\")\n",
        "print(\" f(5) =\", f(5))\n",
        "print(\"the program continuess.\")\n",
        "print(\" f(-6) =\", f(-6))"
      ],
      "metadata": {
        "id": "UhGFoJzm7q-w",
        "colab": {
          "base_uri": "https://localhost:8080/"
        },
        "outputId": "227c5ff3-9de1-40ed-cb0a-f0d8aad1c0e2"
      },
      "execution_count": null,
      "outputs": [
        {
          "output_type": "stream",
          "name": "stdout",
          "text": [
            "the program starts.\n",
            " f(5) = 25\n",
            "the program continuess.\n",
            " f(-6) = 36\n"
          ]
        }
      ]
    },
    {
      "cell_type": "code",
      "source": [
        "math.factorial(5)"
      ],
      "metadata": {
        "colab": {
          "base_uri": "https://localhost:8080/"
        },
        "id": "Nw4oRF-s9Ts3",
        "outputId": "b2cc2f8f-ed25-4edd-f17c-403db007695a"
      },
      "execution_count": null,
      "outputs": [
        {
          "output_type": "execute_result",
          "data": {
            "text/plain": [
              "120"
            ]
          },
          "metadata": {},
          "execution_count": 14
        }
      ]
    },
    {
      "cell_type": "code",
      "source": [
        "def fact (n):\n",
        "  \"\"\"\n",
        "  Factorial of a given integer\n",
        "  \"\"\"\n",
        "  f = 1\n",
        "  for i in range (2, n+1):\n",
        "    return f*i  # f*=i\n",
        "\n",
        "fact(5)"
      ],
      "metadata": {
        "id": "78-F3wfx9gwy",
        "colab": {
          "base_uri": "https://localhost:8080/"
        },
        "outputId": "e4343091-fab2-48ca-9772-401114ca1ecc"
      },
      "execution_count": null,
      "outputs": [
        {
          "output_type": "execute_result",
          "data": {
            "text/plain": [
              "2"
            ]
          },
          "metadata": {},
          "execution_count": 41
        }
      ]
    },
    {
      "cell_type": "code",
      "source": [
        "math.factorial(5)"
      ],
      "metadata": {
        "colab": {
          "base_uri": "https://localhost:8080/"
        },
        "id": "PXCMY_we-lj7",
        "outputId": "f4bbaba5-3ed8-44a9-8989-921984a98707"
      },
      "execution_count": null,
      "outputs": [
        {
          "output_type": "execute_result",
          "data": {
            "text/plain": [
              "120"
            ]
          },
          "metadata": {},
          "execution_count": 20
        }
      ]
    },
    {
      "cell_type": "code",
      "source": [
        "def fact (n):\n",
        "  \"\"\"\n",
        "  Factorial of a given integer\n",
        "  \"\"\"\n",
        "  if n < 0:\n",
        "    print(\"the input should be non-negative integer.\")\n",
        "    return None\n",
        "  f = 1\n",
        "  for i in range(2, n+1):\n",
        "    return f*i  # f*=i\n",
        "\n",
        "fact(2)"
      ],
      "metadata": {
        "id": "NyiOoqWr-4Sp",
        "colab": {
          "base_uri": "https://localhost:8080/"
        },
        "outputId": "84857dde-e7cd-4b32-c663-4b969883c2d1"
      },
      "execution_count": null,
      "outputs": [
        {
          "output_type": "execute_result",
          "data": {
            "text/plain": [
              "2"
            ]
          },
          "metadata": {},
          "execution_count": 40
        }
      ]
    },
    {
      "cell_type": "code",
      "source": [
        "for num in range (10):\n",
        "  print(num, \" \", fact(num))"
      ],
      "metadata": {
        "colab": {
          "base_uri": "https://localhost:8080/"
        },
        "id": "kz5jF0XN_gUU",
        "outputId": "8ed7f398-f4ce-41f3-aa48-41f10d219859"
      },
      "execution_count": null,
      "outputs": [
        {
          "output_type": "stream",
          "name": "stdout",
          "text": [
            "0   None\n",
            "1   None\n",
            "2   2\n",
            "3   2\n",
            "4   2\n",
            "5   2\n",
            "6   2\n",
            "7   2\n",
            "8   2\n",
            "9   2\n"
          ]
        }
      ]
    },
    {
      "cell_type": "code",
      "source": [
        "def  f(x):\n",
        "  y = x**2\n",
        "  return y\n",
        "\n",
        "f(1)"
      ],
      "metadata": {
        "colab": {
          "base_uri": "https://localhost:8080/"
        },
        "id": "vzIeja5h_4C1",
        "outputId": "d234ddf1-075b-40c6-fdef-f9f2c88bdad9"
      },
      "execution_count": null,
      "outputs": [
        {
          "output_type": "execute_result",
          "data": {
            "text/plain": [
              "1"
            ]
          },
          "metadata": {},
          "execution_count": 32
        }
      ]
    },
    {
      "cell_type": "code",
      "source": [
        "def  f(x=0):\n",
        "  y = x**2\n",
        "  return y\n",
        "\n",
        "f(15)"
      ],
      "metadata": {
        "colab": {
          "base_uri": "https://localhost:8080/"
        },
        "id": "aheeBzb1_rhS",
        "outputId": "fe3dabab-d780-45e0-c265-90b64cc3e638"
      },
      "execution_count": null,
      "outputs": [
        {
          "output_type": "execute_result",
          "data": {
            "text/plain": [
              "225"
            ]
          },
          "metadata": {},
          "execution_count": 35
        }
      ]
    },
    {
      "cell_type": "code",
      "source": [
        "def my_func(a=25, b=True, c=\"Michael\"):\n",
        "  print(\"a =\",a)\n",
        "  print(\"b =\",b)\n",
        "  print(\"c =\",c)\n",
        "\n",
        "my_func(10)"
      ],
      "metadata": {
        "colab": {
          "base_uri": "https://localhost:8080/"
        },
        "id": "k5lnSey7Ah6h",
        "outputId": "5abeb0c8-2b90-4645-9b92-38619b7a46f3"
      },
      "execution_count": null,
      "outputs": [
        {
          "output_type": "stream",
          "name": "stdout",
          "text": [
            "a = 10\n",
            "b = True\n",
            "c = Michael\n"
          ]
        }
      ]
    },
    {
      "cell_type": "code",
      "source": [
        "def my_func(a=25, b=True, c=\"Michael\"):\n",
        "  print(\"a =\",a)\n",
        "  print(\"b =\",b)\n",
        "  print(\"c =\",c)\n",
        "\n",
        "my_func(10, \"Hello\")"
      ],
      "metadata": {
        "colab": {
          "base_uri": "https://localhost:8080/"
        },
        "id": "HjO2IIs2BRnY",
        "outputId": "33165303-d299-48ba-b3c1-67eec54f5e6d"
      },
      "execution_count": null,
      "outputs": [
        {
          "output_type": "stream",
          "name": "stdout",
          "text": [
            "a = 10\n",
            "b = Hello\n",
            "c = Michael\n"
          ]
        }
      ]
    },
    {
      "cell_type": "code",
      "source": [
        "def my_func(a=25, b=True, c=\"Michael\"):\n",
        "  print(\"a =\",a)\n",
        "  print(\"b =\",b)\n",
        "  print(\"c =\",c)\n",
        "\n",
        "my_func(a=10, c=\"Hello\")"
      ],
      "metadata": {
        "colab": {
          "base_uri": "https://localhost:8080/"
        },
        "id": "Vfh3hYljBqWM",
        "outputId": "87a00ec5-08b5-411c-e96e-df69dd05edd5"
      },
      "execution_count": null,
      "outputs": [
        {
          "output_type": "stream",
          "name": "stdout",
          "text": [
            "a = 10\n",
            "b = True\n",
            "c = Hello\n"
          ]
        }
      ]
    },
    {
      "cell_type": "markdown",
      "source": [],
      "metadata": {
        "id": "GUs2S86xCRfb"
      }
    },
    {
      "cell_type": "code",
      "source": [
        "def greeter(*args):\n",
        "  for name in args:\n",
        "    print(\"Hello\", name)\n",
        "\n",
        "greeter (\"Michael\")"
      ],
      "metadata": {
        "colab": {
          "base_uri": "https://localhost:8080/"
        },
        "id": "I66m4fGaCSty",
        "outputId": "315f47cb-f698-4f5f-a3cf-abdd951a7912"
      },
      "execution_count": null,
      "outputs": [
        {
          "output_type": "stream",
          "name": "stdout",
          "text": [
            "Hello Michael\n"
          ]
        }
      ]
    },
    {
      "cell_type": "code",
      "source": [
        "def greeter(*args):\n",
        "  for name in args:\n",
        "    print(\"Hello\", name)\n",
        "\n",
        "greeter (\"Michael\", \"Mohit\")"
      ],
      "metadata": {
        "colab": {
          "base_uri": "https://localhost:8080/"
        },
        "id": "5YsKpIe7Cryw",
        "outputId": "82ec32a3-899e-4732-faa0-8ea1459ae7f3"
      },
      "execution_count": null,
      "outputs": [
        {
          "output_type": "stream",
          "name": "stdout",
          "text": [
            "Hello Michael\n",
            "Hello Mohit\n"
          ]
        }
      ]
    },
    {
      "cell_type": "code",
      "source": [
        "def greeter(*args):\n",
        "  print(type(args))\n",
        "  for name in args:\n",
        "    print(\"Hello\", name)\n",
        "\n",
        "greeter (\"Michael\", \"Mohit\")"
      ],
      "metadata": {
        "colab": {
          "base_uri": "https://localhost:8080/"
        },
        "id": "nxROTdhvCxRy",
        "outputId": "b6f0c996-b247-4675-b8c6-79e99b209396"
      },
      "execution_count": null,
      "outputs": [
        {
          "output_type": "stream",
          "name": "stdout",
          "text": [
            "<class 'tuple'>\n",
            "Hello Michael\n",
            "Hello Mohit\n"
          ]
        }
      ]
    },
    {
      "cell_type": "code",
      "source": [
        "def f(x=0):\n",
        "  y=x**2\n",
        "  return y\n",
        "\n",
        "print(y)"
      ],
      "metadata": {
        "colab": {
          "base_uri": "https://localhost:8080/",
          "height": 173
        },
        "id": "5Wl3XsxhEfro",
        "outputId": "e93d8902-6ef7-4245-e70c-99ec9fa163aa"
      },
      "execution_count": null,
      "outputs": [
        {
          "output_type": "error",
          "ename": "NameError",
          "evalue": "name 'y' is not defined",
          "traceback": [
            "\u001b[0;31m---------------------------------------------------------------------------\u001b[0m",
            "\u001b[0;31mNameError\u001b[0m                                 Traceback (most recent call last)",
            "\u001b[0;32m/tmp/ipython-input-2713066508.py\u001b[0m in \u001b[0;36m<cell line: 0>\u001b[0;34m()\u001b[0m\n\u001b[1;32m      3\u001b[0m   \u001b[0;32mreturn\u001b[0m \u001b[0my\u001b[0m\u001b[0;34m\u001b[0m\u001b[0;34m\u001b[0m\u001b[0m\n\u001b[1;32m      4\u001b[0m \u001b[0;34m\u001b[0m\u001b[0m\n\u001b[0;32m----> 5\u001b[0;31m \u001b[0mprint\u001b[0m\u001b[0;34m(\u001b[0m\u001b[0my\u001b[0m\u001b[0;34m)\u001b[0m\u001b[0;34m\u001b[0m\u001b[0;34m\u001b[0m\u001b[0m\n\u001b[0m",
            "\u001b[0;31mNameError\u001b[0m: name 'y' is not defined"
          ]
        }
      ]
    },
    {
      "cell_type": "code",
      "source": [
        "def func1():\n",
        "  print(\"In func1() xx =\", xx)\n",
        "\n",
        "def func2():\n",
        "  print(\"In func2() xx =\", xx)\n",
        "\n",
        "def func3():\n",
        "  print(\"In func3() xx =\", xx)\n",
        "xx=100\n",
        "func1()\n",
        "func2()\n",
        "func3()"
      ],
      "metadata": {
        "colab": {
          "base_uri": "https://localhost:8080/"
        },
        "id": "Q74XZRErFATt",
        "outputId": "309d429d-4103-4cb0-ca5d-fdf2f388d8f0"
      },
      "execution_count": null,
      "outputs": [
        {
          "output_type": "stream",
          "name": "stdout",
          "text": [
            "In func1() xx = 100\n",
            "In func2() xx = 100\n",
            "In func3() xx = 100\n"
          ]
        }
      ]
    },
    {
      "cell_type": "code",
      "source": [
        "def func1():\n",
        "  print(\"In func1() xx =\", xx)\n",
        "\n",
        "def func2():\n",
        "  print(\"In func2() xx =\", xx)\n",
        "\n",
        "def func3():\n",
        "  print(\"In func3() xx =\", xx)\n",
        "xx=100\n",
        "func1()\n",
        "\n",
        "xx += 1000\n",
        "func2()\n",
        "func3()\n",
        "func1()"
      ],
      "metadata": {
        "colab": {
          "base_uri": "https://localhost:8080/"
        },
        "id": "8J_1Tw0NFs4x",
        "outputId": "07236469-27ce-463d-95a3-6a900c0f13eb"
      },
      "execution_count": null,
      "outputs": [
        {
          "output_type": "stream",
          "name": "stdout",
          "text": [
            "In func1() xx = 100\n",
            "In func2() xx = 1100\n",
            "In func3() xx = 1100\n",
            "In func1() xx = 1100\n"
          ]
        }
      ]
    },
    {
      "cell_type": "code",
      "source": [
        "def func1():\n",
        "  print(\"In func1() xx =\", xx)\n",
        "\n",
        "def func2():\n",
        "  print(\"In func2() xx =\", xx)\n",
        "\n",
        "def func3():\n",
        "  print(\"In func3() xx =\", xx)\n",
        "xx=100\n",
        "func1()\n",
        "\n",
        "xx += 1000\n",
        "func2()\n",
        "xx += 1000\n",
        "func3()\n",
        "func1()"
      ],
      "metadata": {
        "colab": {
          "base_uri": "https://localhost:8080/"
        },
        "id": "FAhQIHz6GFW8",
        "outputId": "e6de1a68-a2ff-4b96-9b72-05b4c7c862b7"
      },
      "execution_count": null,
      "outputs": [
        {
          "output_type": "stream",
          "name": "stdout",
          "text": [
            "In func1() xx = 100\n",
            "In func2() xx = 1100\n",
            "In func3() xx = 2100\n",
            "In func1() xx = 2100\n"
          ]
        }
      ]
    },
    {
      "cell_type": "code",
      "source": [
        "def func1():\n",
        "  print(\"In func1() xx =\", xx)\n",
        "  xx += 10\n",
        "\n",
        "def func2():\n",
        "  print(\"In func2() xx =\", xx)\n",
        "  xx -= 20\n",
        "\n",
        "def func3():\n",
        "  print(\"In func3() xx =\", xx)\n",
        "  xx /= 10\n",
        "\n",
        "xx=100\n",
        "\n",
        "print(\"xx before all functions:\", xx)\n",
        "func1()\n",
        "print(\"xx after func1():\", xx)\n",
        "\n",
        "func2()\n",
        "print(\"xx after func2():\", xx)\n",
        "\n",
        "func3()\n",
        "print(\"xx after func3():\", xx)\n",
        "func1()"
      ],
      "metadata": {
        "colab": {
          "base_uri": "https://localhost:8080/",
          "height": 343
        },
        "id": "EOQ063YjGKxS",
        "outputId": "1d8f1868-6bff-477d-9144-1f0ed76bf9b9"
      },
      "execution_count": null,
      "outputs": [
        {
          "output_type": "stream",
          "name": "stdout",
          "text": [
            "xx before all functions: 100\n"
          ]
        },
        {
          "output_type": "error",
          "ename": "UnboundLocalError",
          "evalue": "cannot access local variable 'xx' where it is not associated with a value",
          "traceback": [
            "\u001b[0;31m---------------------------------------------------------------------------\u001b[0m",
            "\u001b[0;31mUnboundLocalError\u001b[0m                         Traceback (most recent call last)",
            "\u001b[0;32m/tmp/ipython-input-766164558.py\u001b[0m in \u001b[0;36m<cell line: 0>\u001b[0;34m()\u001b[0m\n\u001b[1;32m     14\u001b[0m \u001b[0;34m\u001b[0m\u001b[0m\n\u001b[1;32m     15\u001b[0m \u001b[0mprint\u001b[0m\u001b[0;34m(\u001b[0m\u001b[0;34m\"xx before all functions:\"\u001b[0m\u001b[0;34m,\u001b[0m \u001b[0mxx\u001b[0m\u001b[0;34m)\u001b[0m\u001b[0;34m\u001b[0m\u001b[0;34m\u001b[0m\u001b[0m\n\u001b[0;32m---> 16\u001b[0;31m \u001b[0mfunc1\u001b[0m\u001b[0;34m(\u001b[0m\u001b[0;34m)\u001b[0m\u001b[0;34m\u001b[0m\u001b[0;34m\u001b[0m\u001b[0m\n\u001b[0m\u001b[1;32m     17\u001b[0m \u001b[0mprint\u001b[0m\u001b[0;34m(\u001b[0m\u001b[0;34m\"xx after func1():\"\u001b[0m\u001b[0;34m,\u001b[0m \u001b[0mxx\u001b[0m\u001b[0;34m)\u001b[0m\u001b[0;34m\u001b[0m\u001b[0;34m\u001b[0m\u001b[0m\n\u001b[1;32m     18\u001b[0m \u001b[0;34m\u001b[0m\u001b[0m\n",
            "\u001b[0;32m/tmp/ipython-input-766164558.py\u001b[0m in \u001b[0;36mfunc1\u001b[0;34m()\u001b[0m\n\u001b[1;32m      1\u001b[0m \u001b[0;32mdef\u001b[0m \u001b[0mfunc1\u001b[0m\u001b[0;34m(\u001b[0m\u001b[0;34m)\u001b[0m\u001b[0;34m:\u001b[0m\u001b[0;34m\u001b[0m\u001b[0;34m\u001b[0m\u001b[0m\n\u001b[0;32m----> 2\u001b[0;31m   \u001b[0mprint\u001b[0m\u001b[0;34m(\u001b[0m\u001b[0;34m\"In func1() xx =\"\u001b[0m\u001b[0;34m,\u001b[0m \u001b[0mxx\u001b[0m\u001b[0;34m)\u001b[0m\u001b[0;34m\u001b[0m\u001b[0;34m\u001b[0m\u001b[0m\n\u001b[0m\u001b[1;32m      3\u001b[0m   \u001b[0mxx\u001b[0m \u001b[0;34m+=\u001b[0m \u001b[0;36m10\u001b[0m\u001b[0;34m\u001b[0m\u001b[0;34m\u001b[0m\u001b[0m\n\u001b[1;32m      4\u001b[0m \u001b[0;34m\u001b[0m\u001b[0m\n\u001b[1;32m      5\u001b[0m \u001b[0;32mdef\u001b[0m \u001b[0mfunc2\u001b[0m\u001b[0;34m(\u001b[0m\u001b[0;34m)\u001b[0m\u001b[0;34m:\u001b[0m\u001b[0;34m\u001b[0m\u001b[0;34m\u001b[0m\u001b[0m\n",
            "\u001b[0;31mUnboundLocalError\u001b[0m: cannot access local variable 'xx' where it is not associated with a value"
          ]
        }
      ]
    }
  ]
}